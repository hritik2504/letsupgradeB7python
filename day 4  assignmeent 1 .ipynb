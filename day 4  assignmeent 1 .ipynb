{
 "cells": [
  {
   "cell_type": "code",
   "execution_count": null,
   "metadata": {},
   "outputs": [],
   "source": [
    "# Program to find armstrong number within the given range:\n",
    "\n",
    "\n",
    "l = 1042000\n",
    "u = 702648265\n",
    "\n",
    "for num in range(l, u + 1):\n",
    "\n",
    "  n = len(str(num))\n",
    "    \n",
    "\n",
    "   sum = 0\n",
    "\n",
    "   i = num\n",
    "   while i > 0:\n",
    "       digit = i % 10\n",
    "       sum += digit ** n\n",
    "       i //= 10\n",
    "\n",
    "   if num == sum:\n",
    "       print(num)\n",
    "       break\n",
    "        \n",
    "        \n"
   ]
  },
  {
   "cell_type": "code",
   "execution_count": null,
   "metadata": {},
   "outputs": [],
   "source": []
  },
  {
   "cell_type": "code",
   "execution_count": null,
   "metadata": {},
   "outputs": [],
   "source": []
  }
 ],
 "metadata": {
  "kernelspec": {
   "display_name": "Python 3",
   "language": "python",
   "name": "python3"
  },
  "language_info": {
   "codemirror_mode": {
    "name": "ipython",
    "version": 3
   },
   "file_extension": ".py",
   "mimetype": "text/x-python",
   "name": "python",
   "nbconvert_exporter": "python",
   "pygments_lexer": "ipython3",
   "version": "3.8.3"
  }
 },
 "nbformat": 4,
 "nbformat_minor": 4
}
