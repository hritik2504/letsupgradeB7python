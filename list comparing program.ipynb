{
 "cells": [
  {
   "cell_type": "code",
   "execution_count": 4,
   "metadata": {},
   "outputs": [
    {
     "name": "stdout",
     "output_type": "stream",
     "text": [
      "it’s a Match\n"
     ]
    }
   ],
   "source": [
    "\n",
    "ls1 = [1,5,6,4,1,2,3,5]\n",
    "ls2 = [1,5,6,5,1,2,3,6]\n",
    "\n",
    "ls = [1,1,5]\n",
    "\n",
    "c = 0\n",
    "r=0\n",
    "for x in ls:\n",
    "    for y in ls1[r:]:\n",
    "        r+=1\n",
    "        if (x==y):\n",
    "            c+=1\n",
    "            break;\n",
    "        else:\n",
    "            pass\n",
    "        \n",
    "\n",
    "if(c==3):\n",
    "    print(\"it’s a Match\")\n",
    "else:\n",
    "    print(\"it’s Gone\")"
   ]
  },
  {
   "cell_type": "code",
   "execution_count": 6,
   "metadata": {},
   "outputs": [
    {
     "name": "stdout",
     "output_type": "stream",
     "text": [
      "it’s Gone\n"
     ]
    }
   ],
   "source": [
    "c = 0\n",
    "r=0\n",
    "for x in ls:\n",
    "    for y in ls2[r:]:\n",
    "        r+=1\n",
    "        if (x==y):\n",
    "            c+=1\n",
    "            break;\n",
    "        else:\n",
    "            pass\n",
    "        \n",
    "\n",
    "if(c==3):\n",
    "    print(\"it’s a Match\")\n",
    "else:\n",
    "    print(\"it’s Gone\")"
   ]
  },
  {
   "cell_type": "code",
   "execution_count": null,
   "metadata": {},
   "outputs": [],
   "source": []
  }
 ],
 "metadata": {
  "kernelspec": {
   "display_name": "Python 3",
   "language": "python",
   "name": "python3"
  },
  "language_info": {
   "codemirror_mode": {
    "name": "ipython",
    "version": 3
   },
   "file_extension": ".py",
   "mimetype": "text/x-python",
   "name": "python",
   "nbconvert_exporter": "python",
   "pygments_lexer": "ipython3",
   "version": "3.8.3"
  }
 },
 "nbformat": 4,
 "nbformat_minor": 4
}
